{
 "cells": [
  {
   "cell_type": "code",
   "execution_count": null,
   "metadata": {},
   "outputs": [],
   "source": [
    "import skimage.io as io\n",
    "\n",
    "# Show the figures / plots inside the notebook\n",
    "%matplotlib inline\n",
    "from skimage.color import rgb2gray,rgb2hsv\n",
    "import matplotlib.pyplot as plt\n",
    "import numpy as np\n",
    "from skimage.util import random_noise\n",
    "from skimage import color\n",
    "\n",
    "from skimage.exposure import histogram\n",
    "from matplotlib.pyplot import bar\n",
    "import os\n"
   ]
  },
  {
   "cell_type": "code",
   "execution_count": null,
   "metadata": {},
   "outputs": [],
   "source": [
    "\n",
    "def show_images(images,titles=None):\n",
    "    #This function is used to show image(s) with titles by sending an array of images and an array of associated titles.\n",
    "    # images[0] will be drawn with the title titles[0] if exists\n",
    "    # You aren't required to understand this function, use it as-is.\n",
    "    n_ims = len(images)\n",
    "    if titles is None: titles = ['(%d)' % i for i in range(1,n_ims + 1)]\n",
    "    fig = plt.figure()\n",
    "    \n",
    "    n = 1\n",
    "    for image,title in zip(images,titles):\n",
    "        a = fig.add_subplot(1,n_ims,n)\n",
    "        if image.ndim == 2: \n",
    "            plt.gray()\n",
    "        plt.axis('off')\n",
    "        plt.imshow(image)\n",
    "        a.set_title(title)\n",
    "        n += 1\n",
    "    fig.set_size_inches(np.array(fig.get_size_inches()) * n_ims)\n",
    "    plt.show()"
   ]
  },
  {
   "cell_type": "code",
   "execution_count": null,
   "metadata": {},
   "outputs": [],
   "source": [
    "# Ex: imread and imshow \n",
    "pyramids = io.imread('pyramids.jpeg')\n",
    "plt.axis('off')\n",
    "io.imshow(pyramids)\n",
    "io.show()"
   ]
  },
  {
   "cell_type": "code",
   "execution_count": null,
   "metadata": {},
   "outputs": [],
   "source": [
    "# Use this function to show a histogram\n",
    "# The image should be gray-scale and should range from 0 to 1\n",
    "def showHist(img,histogramImg):\n",
    "    plt.figure()\n",
    "    plt.axis('off')\n",
    "    bar(histogramImg[1]*255, histogramImg[0], width=0.8, align='center')"
   ]
  },
  {
   "cell_type": "markdown",
   "metadata": {},
   "source": [
    "## Requirement 1"
   ]
  },
  {
   "cell_type": "code",
   "execution_count": null,
   "metadata": {},
   "outputs": [],
   "source": [
    "coffee = io.imread('coffee.jpeg')\n",
    "io.imshow(coffee)\n",
    "plt.axis('off')\n",
    "io.show()\n",
    "coffee.shape"
   ]
  },
  {
   "cell_type": "markdown",
   "metadata": {},
   "source": [
    "- ### Show half of the image"
   ]
  },
  {
   "cell_type": "code",
   "execution_count": null,
   "metadata": {},
   "outputs": [],
   "source": [
    "coffee_halfed_v1=coffee[:, :coffee.shape[1]//2 , :]\n",
    "coffee_halfed_v2=coffee[:coffee.shape[0]//2, : , :]\n",
    "\n",
    "show_images([coffee_halfed_v1,coffee_halfed_v2],['img_width/2','img_height/2'])"
   ]
  },
  {
   "cell_type": "markdown",
   "metadata": {},
   "source": [
    "- ### RGB -> Gray"
   ]
  },
  {
   "cell_type": "code",
   "execution_count": null,
   "metadata": {},
   "outputs": [],
   "source": [
    "gray_coffee=rgb2gray(coffee)\n",
    "plt.axis('off')\n",
    "io.imshow(gray_coffee)\n",
    "io.show()"
   ]
  },
  {
   "cell_type": "markdown",
   "metadata": {},
   "source": [
    "# Requirement 2.1 "
   ]
  },
  {
   "cell_type": "code",
   "execution_count": null,
   "metadata": {},
   "outputs": [],
   "source": [
    "def gray_image(img):\n",
    "    gray=rgb2gray(img)\n",
    "    show_images([img,gray],['Img','Img gray'])\n",
    "    \n",
    "def HSV_image(img):\n",
    "    hsv = rgb2hsv(img)\n",
    "    hue = hsv[:,:,0]\n",
    "    saturation = hsv[:,:,1]\n",
    "    value = hsv[:,:,2]\n",
    "    # show the images side by side (as required)\n",
    "    show_images([img,hue,saturation,value],['Img','Img_hue','Img_sat','Img_value'])"
   ]
  },
  {
   "cell_type": "markdown",
   "metadata": {},
   "source": [
    "- ### test gray_image"
   ]
  },
  {
   "cell_type": "code",
   "execution_count": null,
   "metadata": {},
   "outputs": [],
   "source": [
    "gray_image(io.imread('pyramids.jpeg'))  "
   ]
  },
  {
   "cell_type": "markdown",
   "metadata": {},
   "source": [
    "- test HSV_image "
   ]
  },
  {
   "cell_type": "code",
   "execution_count": null,
   "metadata": {},
   "outputs": [],
   "source": [
    "for filename in os.scandir('hsv/'):\n",
    "    print(filename.name)\n",
    "    HSV_image(io.imread(filename.path))"
   ]
  },
  {
   "cell_type": "markdown",
   "metadata": {},
   "source": [
    "### Hue\n",
    "- Hue is the color portion of the model, expressed as a number from 0 to 360 degrees\n",
    "\n",
    "### Saturation\n",
    "- Saturation describes the amount of gray in a particular color, from 0 to 100 percent, Reducing this component toward zero introduces more gray and produces a faded effect\n",
    "\n",
    "### Value (or Brightness)\n",
    "- Value works in conjunction with saturation and describes the brightness or intensity of the color, from 0 to 100 percent, where 0 is completely black, and 100 is the brightest and reveals the most color."
   ]
  },
  {
   "cell_type": "markdown",
   "metadata": {},
   "source": [
    "# Requirement 2.2 "
   ]
  },
  {
   "cell_type": "code",
   "execution_count": null,
   "metadata": {},
   "outputs": [],
   "source": [
    "def noise(path):\n",
    "    # array of amounts\n",
    "    amounts = [0.02, 0.5, 0.9]\n",
    "\n",
    "    # iterate on a directory of images\n",
    "    for filename in os.scandir(path):\n",
    "        fig = plt.figure(figsize=(10, 7))\n",
    "        rows = 2\n",
    "        columns = 2\n",
    "        count = 1\n",
    "        # Load the image\n",
    "        img = io.imread(filename.path)\n",
    "\n",
    "        # convert rgb to gray scale\n",
    "        fig.add_subplot(rows, columns, count)\n",
    "        grayScale = color.rgb2gray(img)\n",
    "        io.imshow(grayScale)\n",
    "        plt.axis('off')\n",
    "        plt.title('grayscale')\n",
    "        # plt.show()\n",
    "\n",
    "        for amount in amounts:\n",
    "            count = count + 1\n",
    "            fig.add_subplot(rows, columns, count)\n",
    "            # Add salt-and-pepper noise to the image.\n",
    "            # returns a floating-point image on the range [0, 1]\n",
    "            noiseImage = random_noise(grayScale, mode='s&p', amount=amount)\n",
    "\n",
    "            # Display noise image\n",
    "            io.imshow(noiseImage)\n",
    "            plt.axis('off')\n",
    "            plt.title(f'noise with amount {amount}')\n",
    "\n",
    "        plt.show()\n"
   ]
  },
  {
   "cell_type": "markdown",
   "metadata": {},
   "source": [
    "### Q1"
   ]
  },
  {
   "cell_type": "code",
   "execution_count": null,
   "metadata": {},
   "outputs": [],
   "source": [
    "noise(\"./hsv\")"
   ]
  },
  {
   "cell_type": "markdown",
   "metadata": {},
   "source": [
    "### Q2 \n",
    "  - reading ./hsv/ex2.jpg (Tree image) which it doesn't affected by noise clearly because it has many zeros and ones in image's pixel and also has random pixels already ,so  it doesn't affected by noise filtration greatly."
   ]
  },
  {
   "cell_type": "code",
   "execution_count": null,
   "metadata": {},
   "outputs": [],
   "source": [
    "# reading image\n",
    "img=io.imread('./hsv/ex2.jpg')\n",
    "fig = plt.figure(figsize=(10, 7))\n",
    "fig.add_subplot(2, 2, 1)\n",
    "\n",
    "# convert to gray-scale\n",
    "grayScale=color.rgb2gray(img)\n",
    "io.imshow(grayScale)\n",
    "plt.axis('off')\n",
    "plt.title('grayscale')\n",
    "\n",
    "# adding noise s&p on gray-scale image\n",
    "noiseImage = random_noise(grayScale, mode='s&p', amount=0.02)\n",
    "fig.add_subplot(2, 2, 2)\n",
    "io.imshow(noiseImage)\n",
    "plt.axis('off')\n",
    "plt.title('noise image')\n",
    "\n",
    "#plot images\n",
    "plt.show()"
   ]
  },
  {
   "cell_type": "markdown",
   "metadata": {},
   "source": [
    "# Requirement 3.1 "
   ]
  },
  {
   "cell_type": "code",
   "execution_count": null,
   "metadata": {},
   "outputs": [],
   "source": [
    "from pathlib import Path\n",
    "\n",
    "bins = [256, 64, 8]\n",
    "for file in Path('histogram').iterdir():\n",
    "    img = io.imread(file, as_gray=True)\n",
    "    for i in range(len(bins)):\n",
    "        hist = histogram(img, nbins=bins[i])\n",
    "        showHist(img, hist)"
   ]
  },
  {
   "cell_type": "markdown",
   "metadata": {},
   "source": [
    "# Requirement 3.2 "
   ]
  },
  {
   "cell_type": "code",
   "execution_count": null,
   "metadata": {},
   "outputs": [],
   "source": [
    "n = 256\n",
    "img = np.zeros((n, n))\n",
    "for i in range(n):\n",
    "    for j in range(n):\n",
    "        img[i][j] = j / 256 # Normalizing the image\n",
    "        \n",
    "# print(img.shape)\n",
    "# print(img)\n",
    "plt.axis('off')\n",
    "io.imshow(img)\n",
    "bins = [256, 64, 8]\n",
    "for i in range(len(bins)):\n",
    "    hist = histogram(img, nbins=bins[i])\n",
    "    showHist(img, hist)"
   ]
  },
  {
   "cell_type": "code",
   "execution_count": null,
   "metadata": {},
   "outputs": [],
   "source": []
  }
 ],
 "metadata": {
  "kernelspec": {
   "display_name": "Python 3 (ipykernel)",
   "language": "python",
   "name": "python3"
  },
  "language_info": {
   "codemirror_mode": {
    "name": "ipython",
    "version": 3
   },
   "file_extension": ".py",
   "mimetype": "text/x-python",
   "name": "python",
   "nbconvert_exporter": "python",
   "pygments_lexer": "ipython3",
   "version": "3.9.12"
  }
 },
 "nbformat": 4,
 "nbformat_minor": 4
}
